{
 "cells": [
  {
   "cell_type": "code",
   "execution_count": null,
   "metadata": {},
   "outputs": [],
   "source": [
    "#imports\n",
    "from simulation import Simulation\n",
    "import cProfile\n",
    "from matrix import InteractionMatrix"
   ]
  },
  {
   "cell_type": "code",
   "execution_count": null,
   "metadata": {},
   "outputs": [],
   "source": [
    "#implementation to use cProfile to test the simulation\n",
    "if __name__ == \"__main__\":\n",
    "    # Simulation parameters\n",
    "    WIDTH, HEIGHT = 800, 600\n",
    "    PARTICLE_COUNT = 500\n",
    "    PARTICLE_TYPES = [\"A\", \"B\", \"C\", \"D\"]\n",
    "    custom_interactions = {\n",
    "        (\"A\", \"B\"): 20.0,\n",
    "        (\"A\", \"C\"): -44.0,\n",
    "        (\"B\", \"C\"): 8.0,\n",
    "        (\"D\", \"A\"): -33.0,\n",
    "        (\"A\", \"A\"): -100.0,\n",
    "        (\"B\", \"B\"): 100.0,\n",
    "        (\"C\", \"C\"): 29.0,\n",
    "        (\"D\", \"D\"): -18.0,\n",
    "    }\n",
    "    interaction_matrix = InteractionMatrix([\"A\", \"B\", \"C\", \"D\"], custom_interactions)\n",
    "\n",
    "\n",
    "    # Initialize the simulation\n",
    "    simulation = Simulation(WIDTH, HEIGHT, PARTICLE_COUNT, PARTICLE_TYPES, interaction_matrix)\n",
    "\n",
    "    # Profiling der run-Methode\n",
    "    cProfile.run('simulation.run()')\n",
    "\n"
   ]
  }
 ],
 "metadata": {
  "language_info": {
   "name": "python"
  }
 },
 "nbformat": 4,
 "nbformat_minor": 2
}
