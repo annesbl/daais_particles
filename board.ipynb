{
 "cells": [
  {
   "cell_type": "code",
   "execution_count": 1,
   "metadata": {},
   "outputs": [
    {
     "name": "stdout",
     "output_type": "stream",
     "text": [
      "pygame 2.6.1 (SDL 2.28.4, Python 3.11.0)\n",
      "Hello from the pygame community. https://www.pygame.org/contribute.html\n"
     ]
    }
   ],
   "source": [
    "import pygame"
   ]
  },
  {
   "cell_type": "code",
   "execution_count": 3,
   "metadata": {},
   "outputs": [],
   "source": [
    "\n",
    "\n",
    "class Board:\n",
    "    def __init__(self, width, height):\n",
    "        self.width = width\n",
    "        self.height = height \n",
    "        pygame.init()\n",
    "        self.screen = pygame.display.set_mode((width, height))\n",
    "        self.clock = pygame.time.Clock()\n",
    "\n",
    "    def draw_particles(self, particles):\n",
    "        self.screen.fill((0, 0, 0))  \n",
    "        for particle in particles:\n",
    "            x, y = int(particle.position[0]), int(particle.position[1])\n",
    "            color = self.get_color_by_type(particle.particle_type)\n",
    "            pygame.draw.circle(self.screen, color, (x, y), 3)  \n",
    "        pygame.display.flip()\n",
    "\n",
    "    def update_display(self):\n",
    "        self.clock.tick(60)  \n",
    "        \n",
    "    def get_color_by_type(self, particle_type):\n",
    "        colors = {\n",
    "            \"A\": (255, 0, 0),  # Red\n",
    "            \"B\": (0, 255, 0),  # Green\n",
    "            \"C\": (0, 0, 255),  # Blue\n",
    "            \"D\": (255, 255, 0)  # Yellow\n",
    "        }\n",
    "        return colors.get(particle_type, (255, 255, 255))  \n",
    "\n",
    "\n",
    "    \n"
   ]
  }
 ],
 "metadata": {
  "kernelspec": {
   "display_name": "base",
   "language": "python",
   "name": "python3"
  },
  "language_info": {
   "codemirror_mode": {
    "name": "ipython",
    "version": 3
   },
   "file_extension": ".py",
   "mimetype": "text/x-python",
   "name": "python",
   "nbconvert_exporter": "python",
   "pygments_lexer": "ipython3",
   "version": "3.11.0"
  }
 },
 "nbformat": 4,
 "nbformat_minor": 2
}
