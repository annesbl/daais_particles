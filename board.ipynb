{
 "cells": [
  {
   "cell_type": "code",
   "execution_count": 1,
   "metadata": {},
   "outputs": [
    {
     "name": "stdout",
     "output_type": "stream",
     "text": [
      "pygame 2.6.1 (SDL 2.28.4, Python 3.11.0)\n",
      "Hello from the pygame community. https://www.pygame.org/contribute.html\n"
     ]
    }
   ],
   "source": [
    "import pygame"
   ]
  },
  {
   "cell_type": "code",
   "execution_count": 3,
   "metadata": {},
   "outputs": [],
   "source": [
    "\n",
    "\n",
    "class Board:\n",
    "    def __init__(self, width, height):   #initalisierung mit paraetern für breite und höhe\n",
    "        self.width = width   #speichert breite des Fensters\n",
    "        self.height = height    #speichert höhe des Fensters\n",
    "        \n",
    "        #initialisierung von pygame und erstellung des Fensters\n",
    "        pygame.init()   #startet pygame und initialisiert alle module\n",
    "        self.screen = pygame.display.set_mode((width, height))   #erstellt ein fenster mit der größe width x height\n",
    "        self.clock = pygame.time.Clock()   #Erstellt ein Clock-Objekt, das verwendet wird, um die Bildrate (Frames per Second, FPS) zu steuern.\n",
    "\n",
    "    def draw_particles(self, particles):   #methode zum zeichnen der partikel\n",
    "        self.screen.fill((0, 0, 0))  #macht hintergrund schwarz\n",
    "        for particle in particles:   #iteriert durch liste der partikel und zeichnet jedes einzelne\n",
    "            x, y = int(particle.position[0]), int(particle.position[1])   #konvertiert die position des partikels in integer\n",
    "            color = self.get_color_by_type(particle.particle_type)    #ruft farbe der partikel ab, basierend auf dem typ\n",
    "            pygame.draw.circle(self.screen, color, (x, y), 3)    #Zeichnet einen Kreis auf das Fenster:\n",
    "                                                                 # - `self.screen`: Das Pygame-Fenster, in dem der Kreis gezeichnet wird.\n",
    "                                                                 # - `color`: Die Farbe des Kreises.\n",
    "                                                                 # - `(x, y)`: Die Position des Kreises (Mittelpunkt).\n",
    "                                                                 # - `3`: Der Radius des Kreises in Pixeln.\n",
    "\n",
    "        pygame.display.flip()   #aktualisiert das fenster mit den gezeichneten partikeln und änderungen\n",
    "                                #ohne den werden änderungen nicht angezeigt\n",
    "\n",
    "    def update_display(self):   #kontrolliert die bildrate des fensters damit nicht zu schnell\n",
    "        self.clock.tick(60)     #wartet bis genügend zeit vergangen ist, um die bildrate auf 60 fps zu halten (also max 60 frames per second)\n",
    "        \n",
    "    def get_color_by_type(self, particle_type):   #methode um farbe der partikel basierend auf dem typ zu erhalten\n",
    "        colors = {\n",
    "            \"A\": (255, 0, 0),  # Red\n",
    "            \"B\": (0, 255, 0),  # Green\n",
    "            \"C\": (0, 0, 255),  # Blue\n",
    "            \"D\": (255, 255, 0)  # Yellow\n",
    "        }\n",
    "        return colors.get(particle_type, (255, 255, 255))  #gibt farbe des partikels zurück, wenn der typ nicht in der liste ist, wird weiß zurückgegeben\n",
    "\n",
    "\n",
    "    \n"
   ]
  }
 ],
 "metadata": {
  "kernelspec": {
   "display_name": "base",
   "language": "python",
   "name": "python3"
  },
  "language_info": {
   "codemirror_mode": {
    "name": "ipython",
    "version": 3
   },
   "file_extension": ".py",
   "mimetype": "text/x-python",
   "name": "python",
   "nbconvert_exporter": "python",
   "pygments_lexer": "ipython3",
   "version": "3.11.0"
  }
 },
 "nbformat": 4,
 "nbformat_minor": 2
}
