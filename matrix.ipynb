{
 "cells": [
  {
   "cell_type": "code",
   "execution_count": 1,
   "metadata": {},
   "outputs": [],
   "source": [
    "import numpy as np"
   ]
  },
  {
   "cell_type": "code",
   "execution_count": 2,
   "metadata": {},
   "outputs": [],
   "source": [
    "\n",
    "\n",
    "class InteractionMatrix:\n",
    "    def __init__(self, types):   #initialisiert interaktionsmatrix\n",
    "        self.types = types  #liste der Partikeltypen (diese typen definieren dimensionen der matrix)\n",
    "        self.matrix = self._initialize_matrix()   #erstellt und speichert matrix mit zufälligen wertenzw -1 und 1\n",
    "\n",
    "    def _initialize_matrix(self):   #erstellt quadratische matrix basierend auf anzahl der typen (jeder eintrag repräsentiert stärke der interaktion zw typen)\n",
    "       \n",
    "        size = len(self.types)   #größe der matrix = anzahl der typen\n",
    "        return np.random.uniform(-1, 1, (size, size))  #Erstellt eine quadratische Matrix der Größe (size x size) mit zufälligen Werten im Bereich [-1, 1].\n",
    "                                                       #Positive Werte bedeuten Anziehung, negative Abstoßung.\n",
    "\n",
    "    def get_interaction(self, type1, type2):   #gibt interaktionsstrke zw zwei typen zurück\n",
    "        \n",
    "        idx1 = self.types.index(type1)   #index des ersten typen\n",
    "        idx2 = self.types.index(type2)   #index des zweiten typen\n",
    "        return self.matrix[idx1, idx2]   #gibt wert aus matrix zurück der die interaktion zw den beiden typen repräsentiert\n",
    "\n",
    "    def calculate_force(self, particle1, particle2):   #berechnet kraft zw zwei partikeln basierend auf interaktionsstärke und abstand\n",
    "        \n",
    "        interaction_strength = self.get_interaction(particle1.particle_type, particle2.particle_type)   #interaktionsstärke zw den beiden typen\n",
    "        distance_vector = np.array(particle2.position) - np.array(particle1.position)   #berechnet vektor zw den beiden partikeln\n",
    "        distance = np.linalg.norm(distance_vector)   #berechnet abstand (länge des vektors) zw den beiden partikeln\n",
    "        if distance == 0 or distance > particle1.max_influence:     #Vermeidet Probleme:\n",
    "                                                                    # - Wenn die Partikel exakt auf derselben Position sind (distance = 0), wird keine Kraft berechnet (sie stoßen sich nicht ab)(division durch 0)\n",
    "                                                                    # - Wenn der Abstand größer ist als der maximale Einflussradius von particle1, wird keine Kraft berechnet (sie sind zu weit auseinander)\n",
    "            return np.array([0, 0])  \n",
    "        force = (interaction_strength / distance ** 2) * distance_vector   #berechnet kraft zw den beiden partikeln mit formel F = (k / r^2) * r (inverse quadratische abstandsabhängigkeit) kraft nimmt quadratisch mit der entfernung ab (abstand ^2 im nenner)\n",
    "        return force   #gibt kraft als vektor zurück (pos anziehung, neg abstoßung)"
   ]
  }
 ],
 "metadata": {
  "kernelspec": {
   "display_name": "base",
   "language": "python",
   "name": "python3"
  },
  "language_info": {
   "codemirror_mode": {
    "name": "ipython",
    "version": 3
   },
   "file_extension": ".py",
   "mimetype": "text/x-python",
   "name": "python",
   "nbconvert_exporter": "python",
   "pygments_lexer": "ipython3",
   "version": "3.11.0"
  }
 },
 "nbformat": 4,
 "nbformat_minor": 2
}
