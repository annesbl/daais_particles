{
 "cells": [
  {
   "cell_type": "code",
   "execution_count": 1,
   "metadata": {},
   "outputs": [],
   "source": [
    "import numpy as np"
   ]
  },
  {
   "cell_type": "code",
   "execution_count": 2,
   "metadata": {},
   "outputs": [],
   "source": [
    "\n",
    "\n",
    "class InteractionMatrix:\n",
    "    def __init__(self, types):\n",
    "        self.types = types  \n",
    "        self.matrix = self._initialize_matrix()\n",
    "\n",
    "    def _initialize_matrix(self):\n",
    "       \n",
    "        size = len(self.types)\n",
    "        return np.random.uniform(-1, 1, (size, size))  \n",
    "\n",
    "    def get_interaction(self, type1, type2):\n",
    "        \n",
    "        idx1 = self.types.index(type1)\n",
    "        idx2 = self.types.index(type2)\n",
    "        return self.matrix[idx1, idx2]\n",
    "\n",
    "    def calculate_force(self, particle1, particle2):\n",
    "        \n",
    "        interaction_strength = self.get_interaction(particle1.particle_type, particle2.particle_type)\n",
    "        distance_vector = np.array(particle2.position) - np.array(particle1.position)\n",
    "        distance = np.linalg.norm(distance_vector)\n",
    "        if distance == 0 or distance > particle1.max_influence:\n",
    "            return np.array([0, 0])  \n",
    "        force = (interaction_strength / distance ** 2) * distance_vector\n",
    "        return force"
   ]
  }
 ],
 "metadata": {
  "kernelspec": {
   "display_name": "base",
   "language": "python",
   "name": "python3"
  },
  "language_info": {
   "codemirror_mode": {
    "name": "ipython",
    "version": 3
   },
   "file_extension": ".py",
   "mimetype": "text/x-python",
   "name": "python",
   "nbconvert_exporter": "python",
   "pygments_lexer": "ipython3",
   "version": "3.11.0"
  }
 },
 "nbformat": 4,
 "nbformat_minor": 2
}
